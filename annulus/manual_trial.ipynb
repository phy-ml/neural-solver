{
 "cells": [
  {
   "cell_type": "code",
   "execution_count": 1,
   "metadata": {},
   "outputs": [],
   "source": [
    "import sys\n",
    "sys.path.insert(0,'C:\\\\Users\\\\Syahrir Ridha\\\\PycharmProjects\\\\NET_Solver\\\\')\n",
    "import numpy as np\n",
    "import matplotlib.pyplot as plt\n",
    "%matplotlib inline\n",
    "import torch\n",
    "from models import*\n",
    "from hard_boundary import *"
   ]
  },
  {
   "cell_type": "code",
   "execution_count": 2,
   "metadata": {},
   "outputs": [],
   "source": [
    "def radial_bipolar(r_out, r_inn, ecc):\n",
    "    r = r_inn/r_out\n",
    "    xi_out = np.arccosh( (r*(1+ecc**2) + (1-ecc**2)) / (2*r*ecc) )\n",
    "    xi_inn = np.arccosh( (r*(1-ecc**2) + (1+ecc**2)) / (2*ecc) )\n",
    "    c_1 = r_inn*np.sinh(xi_out)\n",
    "    c_2 = r_out*np.sinh(xi_inn)\n",
    "    np.testing.assert_allclose(c_1, c_2, rtol=1e-10, atol=0)\n",
    "    return xi_out, xi_inn, c_1"
   ]
  },
  {
   "cell_type": "code",
   "execution_count": 3,
   "metadata": {},
   "outputs": [
    {
     "name": "stdout",
     "output_type": "stream",
     "text": [
      "Outer Xi: 7.8885841413687325 Inner Xi: 7.377758767602808 Focal Point: 799.9995749999124\n"
     ]
    }
   ],
   "source": [
    "r_out = 1.0\n",
    "r_inn = 0.6\n",
    "ecc = 0.001\n",
    "xi_out, xi_inn, c = radial_bipolar(r_out,r_inn, ecc)\n",
    "print(f'Outer Xi: {xi_out} Inner Xi: {xi_inn} Focal Point: {c}')"
   ]
  },
  {
   "cell_type": "code",
   "execution_count": 4,
   "metadata": {},
   "outputs": [],
   "source": [
    "# define the mesh\n",
    "nx = 8\n",
    "ny = 16\n",
    "xi_, eta_ = np.linspace(xi_inn, xi_out, nx), np.linspace(0, np.pi, ny)\n",
    "xi, eta = np.meshgrid(xi_, eta_)"
   ]
  },
  {
   "cell_type": "code",
   "execution_count": 5,
   "metadata": {},
   "outputs": [],
   "source": [
    "# defne neural network\n",
    "hid_dim = 100\n",
    "layers = 4\n",
    "in_dim = 2\n",
    "out_dim = 1\n",
    "act = torch.nn.Tanh()\n",
    "net = MLP(in_dim, out_dim, layers, hid_dim, act = act)"
   ]
  },
  {
   "cell_type": "code",
   "execution_count": 6,
   "metadata": {},
   "outputs": [],
   "source": [
    "# prepare input data for neural network\n",
    "xi, eta = torch.Tensor(xi).float().reshape(-1,1), torch.Tensor(eta).float().reshape(-1,1)\n",
    "input_data = torch.cat([xi,eta], dim=1)"
   ]
  },
  {
   "cell_type": "code",
   "execution_count": 7,
   "metadata": {},
   "outputs": [],
   "source": [
    "# neural network output\n",
    "out = net(input_data)"
   ]
  },
  {
   "cell_type": "code",
   "execution_count": 8,
   "metadata": {},
   "outputs": [],
   "source": [
    "# when xi = xi_inn\n",
    "test_xi_inn = input_data[:,0] <= xi_inn\n",
    "test_xi_inn_indi = torch.nonzero(test_xi_inn).unsqueeze(1)\n",
    "out[test_xi_inn_indi] = 0.0\n",
    "\n",
    "# when xi = xi_out\n",
    "test_xi_out = input_data[:,0] >= xi_out\n",
    "test_xi_out_indi = torch.nonzero(test_xi_out).unsqueeze(1)\n",
    "out[test_xi_out_indi] = 0.0\n",
    "\n",
    "# when eta = 0\n",
    "test_eta_in = input_data[:,1] <= 0.0\n",
    "test_eta_in_indi = torch.nonzero(test_eta_in).unsqueeze(1)\n",
    "out[test_eta_in_indi] = out[test_eta_in_indi+ny]\n",
    "\n",
    "# when eta = pi\n",
    "test_eta_out = input_data[:,1] >= np.pi\n",
    "test_eta_out_indi = torch.nonzero(test_eta_out).unsqueeze(1)\n",
    "out[test_eta_out_indi] = out[test_eta_out_indi-ny]"
   ]
  },
  {
   "cell_type": "code",
   "execution_count": 9,
   "metadata": {},
   "outputs": [
    {
     "ename": "RuntimeError",
     "evalue": "Sizes of tensors must match except in dimension 1. Got 16 and 8 in dimension 0 (The offending index is 2)",
     "output_type": "error",
     "traceback": [
      "\u001b[1;31m---------------------------------------------------------------------------\u001b[0m",
      "\u001b[1;31mRuntimeError\u001b[0m                              Traceback (most recent call last)",
      "\u001b[1;32m<ipython-input-9-86ecc1ec5ab7>\u001b[0m in \u001b[0;36m<module>\u001b[1;34m\u001b[0m\n\u001b[1;32m----> 1\u001b[1;33m \u001b[0mtorch\u001b[0m\u001b[1;33m.\u001b[0m\u001b[0mcat\u001b[0m\u001b[1;33m(\u001b[0m\u001b[1;33m[\u001b[0m\u001b[0mtest_xi_inn_indi\u001b[0m\u001b[1;33m.\u001b[0m\u001b[0mreshape\u001b[0m\u001b[1;33m(\u001b[0m\u001b[1;33m-\u001b[0m\u001b[1;36m1\u001b[0m\u001b[1;33m,\u001b[0m\u001b[1;36m1\u001b[0m\u001b[1;33m)\u001b[0m\u001b[1;33m,\u001b[0m \u001b[0mtest_xi_out_indi\u001b[0m\u001b[1;33m.\u001b[0m\u001b[0mreshape\u001b[0m\u001b[1;33m(\u001b[0m\u001b[1;33m-\u001b[0m\u001b[1;36m1\u001b[0m\u001b[1;33m,\u001b[0m\u001b[1;36m1\u001b[0m\u001b[1;33m)\u001b[0m\u001b[1;33m,\u001b[0m \u001b[0mtest_eta_in_indi\u001b[0m\u001b[1;33m.\u001b[0m\u001b[0mreshape\u001b[0m\u001b[1;33m(\u001b[0m\u001b[1;33m-\u001b[0m\u001b[1;36m1\u001b[0m\u001b[1;33m,\u001b[0m\u001b[1;36m1\u001b[0m\u001b[1;33m)\u001b[0m\u001b[1;33m,\u001b[0m \u001b[0mtest_eta_out_indi\u001b[0m\u001b[1;33m.\u001b[0m\u001b[0mreshape\u001b[0m\u001b[1;33m(\u001b[0m\u001b[1;33m-\u001b[0m\u001b[1;36m1\u001b[0m\u001b[1;33m,\u001b[0m\u001b[1;36m1\u001b[0m\u001b[1;33m)\u001b[0m\u001b[1;33m]\u001b[0m\u001b[1;33m,\u001b[0m \u001b[0mdim\u001b[0m\u001b[1;33m=\u001b[0m\u001b[1;36m1\u001b[0m\u001b[1;33m)\u001b[0m\u001b[1;33m\u001b[0m\u001b[1;33m\u001b[0m\u001b[0m\n\u001b[0m",
      "\u001b[1;31mRuntimeError\u001b[0m: Sizes of tensors must match except in dimension 1. Got 16 and 8 in dimension 0 (The offending index is 2)"
     ]
    }
   ],
   "source": [
    "torch.cat([test_xi_inn_indi.reshape(-1,1), test_xi_out_indi.reshape(-1,1), test_eta_in_indi.reshape(-1,1), test_eta_out_indi.reshape(-1,1)], dim=1)"
   ]
  },
  {
   "cell_type": "code",
   "execution_count": 10,
   "metadata": {},
   "outputs": [],
   "source": [
    "class Trial_Solution:\n",
    "    def __init__(self, model, boundary):\n",
    "        self.model = model\n",
    "        self.model.apply(_init_weights)\n",
    "        self.var = tuple(boundary.keys())\n",
    "        self.bound = list(boundary.values())\n",
    "        \n",
    "    def __call__(self,input_data):\n",
    "        \n",
    "        # prediction from neural network\n",
    "        output_data = self.model(input_data)\n",
    "        \n",
    "        # when input is equal at the boundary data\n",
    "        xi_inn = input_data[:,0] <= self.bound[0]\n",
    "        xi_out = input_data[:,0] >= self.bound[1]\n",
    "        \n",
    "        # find index of both the boundary \n",
    "        xi_inn_index = torch.nonzero(xi_inn).unsqueeze(1)\n",
    "        xi_out_index = torch.nonzero(xi_out).unsqueeze(1)\n",
    "        \n",
    "        # filter the output\n",
    "        output_data[xi_inn_index] = 0.0\n",
    "        output_data[xi_out_index] = 0.0\n",
    "        return output_data"
   ]
  },
  {
   "cell_type": "code",
   "execution_count": 11,
   "metadata": {},
   "outputs": [
    {
     "data": {
      "text/plain": [
       "tensor([[0.0000, 0.0705, 0.0707, 0.0709, 0.0710, 0.0712, 0.0713, 0.0000],\n",
       "        [0.0000, 0.0720, 0.0721, 0.0723, 0.0724, 0.0726, 0.0727, 0.0000],\n",
       "        [0.0000, 0.0734, 0.0735, 0.0736, 0.0738, 0.0739, 0.0740, 0.0000],\n",
       "        [0.0000, 0.0748, 0.0749, 0.0750, 0.0751, 0.0752, 0.0753, 0.0000],\n",
       "        [0.0000, 0.0762, 0.0763, 0.0764, 0.0765, 0.0765, 0.0766, 0.0000],\n",
       "        [0.0000, 0.0778, 0.0779, 0.0779, 0.0779, 0.0780, 0.0780, 0.0000],\n",
       "        [0.0000, 0.0795, 0.0795, 0.0795, 0.0796, 0.0796, 0.0796, 0.0000],\n",
       "        [0.0000, 0.0814, 0.0814, 0.0814, 0.0813, 0.0813, 0.0813, 0.0000],\n",
       "        [0.0000, 0.0834, 0.0834, 0.0833, 0.0833, 0.0832, 0.0832, 0.0000],\n",
       "        [0.0000, 0.0856, 0.0855, 0.0854, 0.0853, 0.0853, 0.0852, 0.0000],\n",
       "        [0.0000, 0.0878, 0.0877, 0.0876, 0.0875, 0.0874, 0.0873, 0.0000],\n",
       "        [0.0000, 0.0901, 0.0900, 0.0898, 0.0897, 0.0896, 0.0895, 0.0000],\n",
       "        [0.0000, 0.0924, 0.0923, 0.0921, 0.0920, 0.0919, 0.0917, 0.0000],\n",
       "        [0.0000, 0.0948, 0.0946, 0.0945, 0.0943, 0.0941, 0.0940, 0.0000],\n",
       "        [0.0000, 0.0971, 0.0970, 0.0968, 0.0966, 0.0964, 0.0963, 0.0000],\n",
       "        [0.0000, 0.0995, 0.0993, 0.0991, 0.0989, 0.0988, 0.0986, 0.0000]],\n",
       "       grad_fn=<ViewBackward>)"
      ]
     },
     "execution_count": 11,
     "metadata": {},
     "output_type": "execute_result"
    }
   ],
   "source": [
    "Trial_Solution(net,{'xi_inn':xi_inn, 'xi_out':xi_out})(input_data).reshape(ny,nx)"
   ]
  },
  {
   "cell_type": "code",
   "execution_count": null,
   "metadata": {},
   "outputs": [],
   "source": [
    "tuple(dic.keys())"
   ]
  },
  {
   "cell_type": "code",
   "execution_count": null,
   "metadata": {},
   "outputs": [],
   "source": [
    "diri =  list(dic.values())\n",
    "diri"
   ]
  },
  {
   "cell_type": "code",
   "execution_count": null,
   "metadata": {},
   "outputs": [],
   "source": [
    "for i in diri:\n",
    "    print(i)"
   ]
  },
  {
   "cell_type": "code",
   "execution_count": null,
   "metadata": {},
   "outputs": [],
   "source": []
  }
 ],
 "metadata": {
  "kernelspec": {
   "display_name": "Python 3",
   "language": "python",
   "name": "python3"
  },
  "language_info": {
   "codemirror_mode": {
    "name": "ipython",
    "version": 3
   },
   "file_extension": ".py",
   "mimetype": "text/x-python",
   "name": "python",
   "nbconvert_exporter": "python",
   "pygments_lexer": "ipython3",
   "version": "3.7.4"
  }
 },
 "nbformat": 4,
 "nbformat_minor": 4
}
