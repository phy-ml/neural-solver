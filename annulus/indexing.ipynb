{
 "cells": [
  {
   "cell_type": "code",
   "execution_count": 1,
   "metadata": {},
   "outputs": [],
   "source": [
    "import sys\n",
    "sys.path.insert(0,'C:\\\\Users\\\\Syahrir Ridha\\\\PycharmProjects\\\\NET_Solver\\\\')\n",
    "import torch\n",
    "import numpy as np\n",
    "from models import *\n",
    "from torch.utils.data import Dataset"
   ]
  },
  {
   "cell_type": "code",
   "execution_count": 2,
   "metadata": {},
   "outputs": [],
   "source": [
    "X = torch.linspace(0,1, 10)\n",
    "Y = torch.linspace(0,1,10)\n",
    "xx, yy = torch.meshgrid(X,Y)"
   ]
  },
  {
   "cell_type": "code",
   "execution_count": 3,
   "metadata": {},
   "outputs": [],
   "source": [
    "dx = X[1]-X[0]\n",
    "dy = Y[1] - Y[0]"
   ]
  },
  {
   "cell_type": "code",
   "execution_count": 4,
   "metadata": {},
   "outputs": [
    {
     "data": {
      "text/plain": [
       "tensor([[0.0000, 0.0000, 0.0000, 0.0000, 0.0000, 0.0000, 0.0000, 0.0000, 0.0000,\n",
       "         0.0000],\n",
       "        [0.1111, 0.1111, 0.1111, 0.1111, 0.1111, 0.1111, 0.1111, 0.1111, 0.1111,\n",
       "         0.1111],\n",
       "        [0.2222, 0.2222, 0.2222, 0.2222, 0.2222, 0.2222, 0.2222, 0.2222, 0.2222,\n",
       "         0.2222],\n",
       "        [0.3333, 0.3333, 0.3333, 0.3333, 0.3333, 0.3333, 0.3333, 0.3333, 0.3333,\n",
       "         0.3333],\n",
       "        [0.4444, 0.4444, 0.4444, 0.4444, 0.4444, 0.4444, 0.4444, 0.4444, 0.4444,\n",
       "         0.4444],\n",
       "        [0.5556, 0.5556, 0.5556, 0.5556, 0.5556, 0.5556, 0.5556, 0.5556, 0.5556,\n",
       "         0.5556],\n",
       "        [0.6667, 0.6667, 0.6667, 0.6667, 0.6667, 0.6667, 0.6667, 0.6667, 0.6667,\n",
       "         0.6667],\n",
       "        [0.7778, 0.7778, 0.7778, 0.7778, 0.7778, 0.7778, 0.7778, 0.7778, 0.7778,\n",
       "         0.7778],\n",
       "        [0.8889, 0.8889, 0.8889, 0.8889, 0.8889, 0.8889, 0.8889, 0.8889, 0.8889,\n",
       "         0.8889],\n",
       "        [1.0000, 1.0000, 1.0000, 1.0000, 1.0000, 1.0000, 1.0000, 1.0000, 1.0000,\n",
       "         1.0000]])"
      ]
     },
     "execution_count": 4,
     "metadata": {},
     "output_type": "execute_result"
    }
   ],
   "source": [
    "xx"
   ]
  },
  {
   "cell_type": "code",
   "execution_count": 5,
   "metadata": {},
   "outputs": [
    {
     "data": {
      "text/plain": [
       "tensor([[0.0000, 0.1111, 0.2222, 0.3333, 0.4444, 0.5556, 0.6667, 0.7778, 0.8889,\n",
       "         1.0000],\n",
       "        [0.0000, 0.1111, 0.2222, 0.3333, 0.4444, 0.5556, 0.6667, 0.7778, 0.8889,\n",
       "         1.0000],\n",
       "        [0.0000, 0.1111, 0.2222, 0.3333, 0.4444, 0.5556, 0.6667, 0.7778, 0.8889,\n",
       "         1.0000],\n",
       "        [0.0000, 0.1111, 0.2222, 0.3333, 0.4444, 0.5556, 0.6667, 0.7778, 0.8889,\n",
       "         1.0000],\n",
       "        [0.0000, 0.1111, 0.2222, 0.3333, 0.4444, 0.5556, 0.6667, 0.7778, 0.8889,\n",
       "         1.0000],\n",
       "        [0.0000, 0.1111, 0.2222, 0.3333, 0.4444, 0.5556, 0.6667, 0.7778, 0.8889,\n",
       "         1.0000],\n",
       "        [0.0000, 0.1111, 0.2222, 0.3333, 0.4444, 0.5556, 0.6667, 0.7778, 0.8889,\n",
       "         1.0000],\n",
       "        [0.0000, 0.1111, 0.2222, 0.3333, 0.4444, 0.5556, 0.6667, 0.7778, 0.8889,\n",
       "         1.0000],\n",
       "        [0.0000, 0.1111, 0.2222, 0.3333, 0.4444, 0.5556, 0.6667, 0.7778, 0.8889,\n",
       "         1.0000],\n",
       "        [0.0000, 0.1111, 0.2222, 0.3333, 0.4444, 0.5556, 0.6667, 0.7778, 0.8889,\n",
       "         1.0000]])"
      ]
     },
     "execution_count": 5,
     "metadata": {},
     "output_type": "execute_result"
    }
   ],
   "source": [
    "yy"
   ]
  },
  {
   "cell_type": "code",
   "execution_count": 6,
   "metadata": {},
   "outputs": [],
   "source": [
    "data = torch.cat((xx.reshape(-1,1),yy.reshape(-1,1)),1)"
   ]
  },
  {
   "cell_type": "code",
   "execution_count": 7,
   "metadata": {},
   "outputs": [
    {
     "data": {
      "text/plain": [
       "torch.Size([100, 2])"
      ]
     },
     "execution_count": 7,
     "metadata": {},
     "output_type": "execute_result"
    }
   ],
   "source": [
    "data.shape"
   ]
  },
  {
   "cell_type": "code",
   "execution_count": 8,
   "metadata": {},
   "outputs": [
    {
     "data": {
      "text/plain": [
       "tensor([], size=(0, 2))"
      ]
     },
     "execution_count": 8,
     "metadata": {},
     "output_type": "execute_result"
    }
   ],
   "source": [
    "data[data[:,0]==0.5]"
   ]
  },
  {
   "cell_type": "code",
   "execution_count": 9,
   "metadata": {},
   "outputs": [
    {
     "data": {
      "text/plain": [
       "tensor([[0.1111, 0.0000],\n",
       "        [0.1111, 0.1111],\n",
       "        [0.1111, 0.2222],\n",
       "        [0.1111, 0.3333],\n",
       "        [0.1111, 0.4444],\n",
       "        [0.1111, 0.5556],\n",
       "        [0.1111, 0.6667],\n",
       "        [0.1111, 0.7778],\n",
       "        [0.1111, 0.8889],\n",
       "        [0.1111, 1.0000]])"
      ]
     },
     "execution_count": 9,
     "metadata": {},
     "output_type": "execute_result"
    }
   ],
   "source": [
    "data[data[:,0]==0+dx]"
   ]
  },
  {
   "cell_type": "code",
   "execution_count": 10,
   "metadata": {},
   "outputs": [],
   "source": [
    "def get_index(host, target):\n",
    "        \"\"\"\n",
    "        :param host: Tensor which contains the target values\n",
    "        :param target: Tensor who's index is to be determined in the host\n",
    "        :return: index of the target Tensor with respect to the host Tensor\n",
    "        \"\"\"\n",
    "        # host, target = host.reshape(host.size(-1),1), target.reshape(target.size(-1),1)\n",
    "        diff = target.unsqueeze(1) - host.unsqueeze(0)\n",
    "        dsum = torch.abs(diff).sum(-1)\n",
    "        loc = (dsum < 1e-5).nonzero(as_tuple=False)\n",
    "        return loc[:, -1]"
   ]
  },
  {
   "cell_type": "code",
   "execution_count": 11,
   "metadata": {},
   "outputs": [],
   "source": [
    "# data[:,:]==1"
   ]
  },
  {
   "cell_type": "code",
   "execution_count": 12,
   "metadata": {},
   "outputs": [
    {
     "ename": "SyntaxError",
     "evalue": "invalid syntax (<ipython-input-12-56d49e0322e6>, line 1)",
     "output_type": "error",
     "traceback": [
      "\u001b[1;36m  File \u001b[1;32m\"<ipython-input-12-56d49e0322e6>\"\u001b[1;36m, line \u001b[1;32m1\u001b[0m\n\u001b[1;33m    data[get_index(data, data[data[:,0]==])]\u001b[0m\n\u001b[1;37m                                         ^\u001b[0m\n\u001b[1;31mSyntaxError\u001b[0m\u001b[1;31m:\u001b[0m invalid syntax\n"
     ]
    }
   ],
   "source": [
    "data[get_index(data, data[data[:,0]==])]"
   ]
  },
  {
   "cell_type": "code",
   "execution_count": null,
   "metadata": {},
   "outputs": [],
   "source": [
    "#define a neural net\n",
    "activation = torch.nn.Tanh()\n",
    "net = MLP(2, 1, 2, 1, act=activation)\n",
    "out_data = net(data)"
   ]
  },
  {
   "cell_type": "code",
   "execution_count": null,
   "metadata": {},
   "outputs": [],
   "source": [
    "x, y = np.linspace(0,1,10), np.linspace(0,1,10)"
   ]
  },
  {
   "cell_type": "code",
   "execution_count": null,
   "metadata": {},
   "outputs": [],
   "source": [
    "class Hard_Diri:\n",
    "    def __init__(self, data, device='cpu', compt = 'on'):\n",
    "        if compt == 'on':\n",
    "            x = np.stack(np.meshgrid(*data[0]), -1).reshape(-1, len(data[0]))\n",
    "            y = np.stack(data[1], axis=1)\n",
    "\n",
    "        elif compt == 'off':\n",
    "            x = np.stack(tuple(data[0]),-1).reshape(-1, len(data[0]))\n",
    "            y = np.stack(data[1], axis=1)\n",
    "\n",
    "        assert len(x) == len(y), f'The input has shape of {x.shape} and output has {y.shape}'\n",
    "\n",
    "        self.x = torch.from_numpy(x).float().to(device)\n",
    "        self.y = torch.from_numpy(y).float().to(device)\n",
    "\n",
    "\n",
    "class Hard_Dirichlet:\n",
    "    def __init__(self, x, y, mesh=True):\n",
    "        \n",
    "        assert isinstance(x, dict), f'Input data must be in dict format'\n",
    "        assert isinstance(y, dict), f'Output data must be in dict format'\n",
    "        \n",
    "        self.variable = [tuple(x.keys()), tuple(y.keys())]\n",
    "        self.data = [x.values(), list(y.values())]\n",
    "        \n",
    "        data_in = np.stack(np.meshgrid(*self.data[0]), -1).reshape(-1, len(self.data[0]))\n",
    "        data_out = np.stack(self.data[1], axis=1)\n",
    "        \n",
    "        self.in_data = torch.from_numpy(data_in).float()\n",
    "        self.out_data = torch.from_numpy(data_out).float()\n",
    "        \n",
    "        assert len(self.in_data) == len(self.out_data), f'Input has shape of {self.in_data.shape} and Output has shape of {self.out_data.shape}'\n",
    "        \n",
    "    def Dirichlet(self, data, model_pred):\n",
    "        # check for data index \n",
    "        index_diri = get_index(data, self.in_data)\n",
    "        model_pred[index_diri] = 0\n",
    "        return model_pred"
   ]
  },
  {
   "cell_type": "code",
   "execution_count": null,
   "metadata": {},
   "outputs": [],
   "source": [
    "diri = Hard_Dirichlet({'x':x, 'y': [0,1]}, {'u':np.full(2*len(x), -1)})\n",
    "#test_out = diri.Dirichlet(data, out_data)"
   ]
  },
  {
   "cell_type": "code",
   "execution_count": null,
   "metadata": {},
   "outputs": [],
   "source": [
    "idx = get_index(data, diri.in_data)"
   ]
  },
  {
   "cell_type": "code",
   "execution_count": null,
   "metadata": {},
   "outputs": [],
   "source": [
    "# def set_differ(A, B):\n",
    "#     r\"\"\"Returns the elements of A without the elements of B\"\"\"\n",
    "#     mask = torch.as_tensor([elem not in B for elem in A])\n",
    "#     return A[mask]"
   ]
  },
  {
   "cell_type": "code",
   "execution_count": 86,
   "metadata": {},
   "outputs": [],
   "source": [
    "def slice_data(A, B):\n",
    "    # https://discuss.pytorch.org/t/any-way-of-filtering-given-rows-from-a-tensor-a/83828/2\n",
    "    r\"\"\"Returns the elements of A without the elements of B\"\"\"\n",
    "    cdist = torch.cdist(A.float(), B.float(),p=1)\n",
    "    min_dist = torch.min(cdist, dim=1).values\n",
    "    return A[min_dist>0.000007]"
   ]
  },
  {
   "cell_type": "code",
   "execution_count": null,
   "metadata": {},
   "outputs": [],
   "source": [
    "slice_data(data, diri.in_data).shape"
   ]
  },
  {
   "cell_type": "code",
   "execution_count": null,
   "metadata": {},
   "outputs": [],
   "source": [
    "x_ = [0,1]\n",
    "y_ = np.linspace(0,1,70)\n",
    "xx,yy = np.meshgrid(x_,y_)"
   ]
  },
  {
   "cell_type": "code",
   "execution_count": null,
   "metadata": {},
   "outputs": [],
   "source": [
    "np.random.randn(2,2) * np.random.randn(2,2)"
   ]
  },
  {
   "cell_type": "code",
   "execution_count": 117,
   "metadata": {},
   "outputs": [],
   "source": [
    "class Hard_Boundary:\n",
    "    def __init__(self, dirichlet, neumann):\n",
    "        assert isinstance(dirichlet, dict), f'The Dirichlet data boundary should be in dict format'\n",
    "        assert isinstance(neumann, dict), f'The Neumann data boundary should be in dict format'\n",
    "        \n",
    "        self.diri = dirichlet\n",
    "        self.numann = neumann\n",
    "    \n",
    "    def Dirichelt(self):\n",
    "        var = tuple(self.diri.keys())\n",
    "        data = self.diri.values()\n",
    "        in_data = np.stack(np.meshgrid(*data), -1).reshape(-1, len(data))\n",
    "        in_data = torch.from_numpy(in_data).float()\n",
    "        return in_data\n",
    "    \n",
    "    def Neumann(self):\n",
    "        var = tuple(self.numann.keys())\n",
    "        data = self.numann.values()\n",
    "        in_data = np.stack(np.meshgrid(*data), -1).reshape(-1, len(data))\n",
    "        in_data = torch.from_numpy(in_data).float()\n",
    "        return in_data\n",
    "    \n",
    "    def slice_data(self, model_data, tol =0.000007 ):\n",
    "        # combine the data from neumann and dirichlet\n",
    "        combo_data = torch.cat((self.Dirichelt(), self.Neumann()), dim=0)\n",
    "        \n",
    "        # return the elements of model data without the boundary data for hard boundary \n",
    "        # implementation\n",
    "        # https://discuss.pytorch.org/t/any-way-of-filtering-given-rows-from-a-tensor-a/83828/2\n",
    "        cdist = torch.cdist(model_data, combo_data,p=1)\n",
    "        min_dist = torch.min(cdist, dim=1).values\n",
    "        \n",
    "        # return the tensor\n",
    "        return model_data[min_dist> tol ]"
   ]
  },
  {
   "cell_type": "code",
   "execution_count": 118,
   "metadata": {},
   "outputs": [],
   "source": [
    "arr = np.array([0,1])\n",
    "split = np.linspace(0,1,10)\n",
    "test = Hard_Boundary(dirichlet={'x':arr,'y':split}, neumann={'x':split, 'y':arr})"
   ]
  },
  {
   "cell_type": "code",
   "execution_count": 119,
   "metadata": {},
   "outputs": [
    {
     "data": {
      "text/plain": [
       "torch.Size([64, 2])"
      ]
     },
     "execution_count": 119,
     "metadata": {},
     "output_type": "execute_result"
    }
   ],
   "source": [
    "# slice_data(data, test.slice_data())\n",
    "test.slice_data(data).shape"
   ]
  },
  {
   "cell_type": "code",
   "execution_count": 113,
   "metadata": {},
   "outputs": [],
   "source": [
    "test_neu = test.Neumann()\n",
    "test_diir = test.Dirichelt()"
   ]
  },
  {
   "cell_type": "code",
   "execution_count": 114,
   "metadata": {},
   "outputs": [
    {
     "data": {
      "text/plain": [
       "torch.Size([40, 2])"
      ]
     },
     "execution_count": 114,
     "metadata": {},
     "output_type": "execute_result"
    }
   ],
   "source": [
    "torch.cat((test_neu, test_diir), dim=0).shape"
   ]
  },
  {
   "cell_type": "code",
   "execution_count": 120,
   "metadata": {},
   "outputs": [
    {
     "data": {
      "text/plain": [
       "tensor([[0.1111, 0.1111],\n",
       "        [0.1111, 0.2222],\n",
       "        [0.1111, 0.3333],\n",
       "        [0.1111, 0.4444],\n",
       "        [0.1111, 0.5556],\n",
       "        [0.1111, 0.6667],\n",
       "        [0.1111, 0.7778],\n",
       "        [0.1111, 0.8889],\n",
       "        [0.2222, 0.1111],\n",
       "        [0.2222, 0.2222],\n",
       "        [0.2222, 0.3333],\n",
       "        [0.2222, 0.4444],\n",
       "        [0.2222, 0.5556],\n",
       "        [0.2222, 0.6667],\n",
       "        [0.2222, 0.7778],\n",
       "        [0.2222, 0.8889],\n",
       "        [0.3333, 0.1111],\n",
       "        [0.3333, 0.2222],\n",
       "        [0.3333, 0.3333],\n",
       "        [0.3333, 0.4444],\n",
       "        [0.3333, 0.5556],\n",
       "        [0.3333, 0.6667],\n",
       "        [0.3333, 0.7778],\n",
       "        [0.3333, 0.8889],\n",
       "        [0.4444, 0.1111],\n",
       "        [0.4444, 0.2222],\n",
       "        [0.4444, 0.3333],\n",
       "        [0.4444, 0.4444],\n",
       "        [0.4444, 0.5556],\n",
       "        [0.4444, 0.6667],\n",
       "        [0.4444, 0.7778],\n",
       "        [0.4444, 0.8889],\n",
       "        [0.5556, 0.1111],\n",
       "        [0.5556, 0.2222],\n",
       "        [0.5556, 0.3333],\n",
       "        [0.5556, 0.4444],\n",
       "        [0.5556, 0.5556],\n",
       "        [0.5556, 0.6667],\n",
       "        [0.5556, 0.7778],\n",
       "        [0.5556, 0.8889],\n",
       "        [0.6667, 0.1111],\n",
       "        [0.6667, 0.2222],\n",
       "        [0.6667, 0.3333],\n",
       "        [0.6667, 0.4444],\n",
       "        [0.6667, 0.5556],\n",
       "        [0.6667, 0.6667],\n",
       "        [0.6667, 0.7778],\n",
       "        [0.6667, 0.8889],\n",
       "        [0.7778, 0.1111],\n",
       "        [0.7778, 0.2222],\n",
       "        [0.7778, 0.3333],\n",
       "        [0.7778, 0.4444],\n",
       "        [0.7778, 0.5556],\n",
       "        [0.7778, 0.6667],\n",
       "        [0.7778, 0.7778],\n",
       "        [0.7778, 0.8889],\n",
       "        [0.8889, 0.1111],\n",
       "        [0.8889, 0.2222],\n",
       "        [0.8889, 0.3333],\n",
       "        [0.8889, 0.4444],\n",
       "        [0.8889, 0.5556],\n",
       "        [0.8889, 0.6667],\n",
       "        [0.8889, 0.7778],\n",
       "        [0.8889, 0.8889]])"
      ]
     },
     "execution_count": 120,
     "metadata": {},
     "output_type": "execute_result"
    }
   ],
   "source": [
    "test.slice_data(data)"
   ]
  },
  {
   "cell_type": "code",
   "execution_count": null,
   "metadata": {},
   "outputs": [],
   "source": []
  },
  {
   "cell_type": "code",
   "execution_count": null,
   "metadata": {},
   "outputs": [],
   "source": []
  }
 ],
 "metadata": {
  "kernelspec": {
   "display_name": "Python 3",
   "language": "python",
   "name": "python3"
  },
  "language_info": {
   "codemirror_mode": {
    "name": "ipython",
    "version": 3
   },
   "file_extension": ".py",
   "mimetype": "text/x-python",
   "name": "python",
   "nbconvert_exporter": "python",
   "pygments_lexer": "ipython3",
   "version": "3.7.4"
  }
 },
 "nbformat": 4,
 "nbformat_minor": 4
}
