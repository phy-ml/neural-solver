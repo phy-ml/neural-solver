{
 "cells": [
  {
   "cell_type": "code",
   "execution_count": 1,
   "metadata": {},
   "outputs": [],
   "source": [
    "import sys\n",
    "sys.path.insert(0,'C:\\\\Users\\\\Syahrir Ridha\\\\PycharmProjects\\\\NET_Solver\\\\')\n",
    "import numpy as np\n",
    "import torch\n",
    "from geometry import *\n",
    "from utils import Plot_Grid\n",
    "from hard_boundary import *\n",
    "from models import *\n",
    "from mesh import *\n",
    "from boundary import *\n",
    "import matplotlib.pyplot as plt\n",
    "%matplotlib inline"
   ]
  },
  {
   "cell_type": "code",
   "execution_count": 2,
   "metadata": {},
   "outputs": [],
   "source": [
    "nx, ny = 10, 10\n",
    "anulus = Analytical_Annulus(1., 0.6, 0.)"
   ]
  },
  {
   "cell_type": "code",
   "execution_count": 3,
   "metadata": {},
   "outputs": [],
   "source": [
    "# define the mesh\n",
    "xi_m, eta_m = np.linspace(0,1,nx), np.linspace(0,1,ny)\n",
    "mesh = Hard_Mesh({'xi':xi_m, 'eta':eta_m})\n"
   ]
  },
  {
   "cell_type": "code",
   "execution_count": 4,
   "metadata": {},
   "outputs": [],
   "source": [
    "inputs = mesh.gen_data"
   ]
  },
  {
   "cell_type": "code",
   "execution_count": 5,
   "metadata": {},
   "outputs": [],
   "source": [
    "net = MLP(2,1,10,1,act=torch.nn.Tanh())"
   ]
  },
  {
   "cell_type": "code",
   "execution_count": 6,
   "metadata": {},
   "outputs": [],
   "source": [
    "trial = Trial_Solution(net, nx, ny)"
   ]
  },
  {
   "cell_type": "code",
   "execution_count": 7,
   "metadata": {},
   "outputs": [],
   "source": [
    "trial_in = trial(inputs)"
   ]
  },
  {
   "cell_type": "code",
   "execution_count": 8,
   "metadata": {},
   "outputs": [],
   "source": [
    "def compute_grad(outputs, inputs):\n",
    "    gradient, = torch.autograd.grad(outputs, inputs, grad_outputs=outputs.data.new(outputs.shape).fill_(1),\n",
    "                                        create_graph=True, retain_graph=True)\n",
    "    return gradient"
   ]
  },
  {
   "cell_type": "code",
   "execution_count": 9,
   "metadata": {},
   "outputs": [],
   "source": [
    "# seperate the inputs\n",
    "xi, eta = inputs[:,0], inputs[:,1]\n",
    "        \n",
    "# calculate the x and y coordinates\n",
    "grid = TFI(xi, eta, anulus)\n",
    "x, y = grid.X(), grid.Y()"
   ]
  },
  {
   "cell_type": "code",
   "execution_count": 10,
   "metadata": {},
   "outputs": [],
   "source": [
    "def cal_grads(x, y, xi, eta):\n",
    "        # compute all the gradients wrt x,y \n",
    "    dxdxi = compute_grad(x, xi)\n",
    "    dxdeta = compute_grad(x, eta)\n",
    "    dydxi = compute_grad(y, xi)\n",
    "    dydeta = compute_grad(y, eta)\n",
    "    jac = dxdxi*dydeta - dxdeta*dydxi\n",
    "        \n",
    "    return dxdxi, dxdeta, dydxi, dydeta, jac"
   ]
  },
  {
   "cell_type": "code",
   "execution_count": 11,
   "metadata": {},
   "outputs": [],
   "source": [
    "dxdxi, dxdeta, dydxi, dydeta, jac = cal_grads(x, y, xi, eta)"
   ]
  },
  {
   "cell_type": "code",
   "execution_count": 12,
   "metadata": {},
   "outputs": [],
   "source": [
    "alpha = dxdeta**2 + dydeta**2\n",
    "gamma = dxdeta*dxdxi + dydeta*dydxi\n",
    "beta = dxdxi**2 + dydxi**2"
   ]
  },
  {
   "cell_type": "code",
   "execution_count": 13,
   "metadata": {},
   "outputs": [],
   "source": [
    "out_grad = compute_grad(trial_in, inputs)\n",
    "dudxi, dudeta = out_grad[:,0], out_grad[:,1]"
   ]
  },
  {
   "cell_type": "code",
   "execution_count": 21,
   "metadata": {},
   "outputs": [],
   "source": [
    "def shear_rate(out_grad, x, y, xi, eta, tol=1e-5):\n",
    "    dxdxi, dxdeta, dydxi, dydeta, jac = cal_grads(x, y, xi, eta)\n",
    "        #u_grad = self.compute_grad(outputs, inputs)\n",
    "    dudxi, dudeta = out_grad[:,0], out_grad[:,1]\n",
    "    \n",
    "    #if tol == None:\n",
    "        # calculate shear rate\n",
    "    shear_ = (1/jac)*((dydeta*(dudxi) - dydxi*(dudeta))**2 + (dxdxi*(dudeta) - dxdeta*(dudxi))**2)**(0.5)\n",
    "    \n",
    "    # create mask tol_\n",
    "    tol_ = torch.zeros_like(shear_)\n",
    "    mask = shear_<=0\n",
    "    indices = torch.nonzero(mask).unsqueeze(1)\n",
    "    tol_[indices] = tol\n",
    "    shear = (1/jac)*((dydeta*(dudxi+tol_) - dydxi*(dudeta+tol_))**2 + (dxdxi*(dudeta+tol_) - dxdeta*(dudxi+tol_))**2)**(0.5)\n",
    "        \n",
    "    return shear"
   ]
  },
  {
   "cell_type": "code",
   "execution_count": null,
   "metadata": {},
   "outputs": [],
   "source": []
  },
  {
   "cell_type": "code",
   "execution_count": 49,
   "metadata": {},
   "outputs": [],
   "source": [
    "shear = shear_rate(out_grad, x, y, xi, eta, tol=1e-6)"
   ]
  },
  {
   "cell_type": "code",
   "execution_count": 50,
   "metadata": {},
   "outputs": [],
   "source": [
    "tau = 0.5\n",
    "k = 1.4\n",
    "n = 0.5\n",
    "app_vis = (tau/shear) + (shear**(n-1))*k"
   ]
  },
  {
   "cell_type": "code",
   "execution_count": 51,
   "metadata": {},
   "outputs": [
    {
     "data": {
      "text/plain": [
       "tensor([[-1.2688e+03, -4.6875e-02],\n",
       "        [-1.4509e+03, -4.6875e-02],\n",
       "        [-1.6694e+03,  0.0000e+00],\n",
       "        [-1.9338e+03,  0.0000e+00],\n",
       "        [-2.2567e+03, -4.6875e-02],\n",
       "        [-2.6551e+03, -1.5625e-02],\n",
       "        [-3.1523e+03, -1.5625e-02],\n",
       "        [-3.7805e+03,  0.0000e+00],\n",
       "        [-4.5854e+03, -7.8125e-02],\n",
       "        [-5.6329e+03, -4.6875e-02],\n",
       "        [-1.2688e+03, -1.0938e-01],\n",
       "        [ 2.7118e+05,  3.6968e+05],\n",
       "        [ 2.6855e+05,  3.8191e+05],\n",
       "        [ 2.6272e+05,  3.9409e+05],\n",
       "        [ 2.5281e+05,  4.0620e+05],\n",
       "        [ 2.3761e+05,  4.1823e+05],\n",
       "        [ 2.1547e+05,  4.3015e+05],\n",
       "        [ 1.8411e+05,  4.4193e+05],\n",
       "        [ 1.4029e+05,  4.5351e+05],\n",
       "        [-5.6329e+03, -4.6875e-02],\n",
       "        [-1.2688e+03, -3.1250e-02],\n",
       "        [ 5.6681e+05,  7.6464e+05],\n",
       "        [ 5.6148e+05,  7.8911e+05],\n",
       "        [ 5.4972e+05,  8.1349e+05],\n",
       "        [ 5.2975e+05,  8.3777e+05],\n",
       "        [ 4.9915e+05,  8.6185e+05],\n",
       "        [ 4.5463e+05,  8.8572e+05],\n",
       "        [ 3.9158e+05,  9.0931e+05],\n",
       "        [ 3.0347e+05,  9.3247e+05],\n",
       "        [-5.6329e+03, -4.6875e-02],\n",
       "        [-1.2688e+03, -1.5625e-02],\n",
       "        [ 5.9136e+05,  7.9000e+05],\n",
       "        [ 5.8594e+05,  8.1452e+05],\n",
       "        [ 5.7407e+05,  8.3895e+05],\n",
       "        [ 5.5396e+05,  8.6326e+05],\n",
       "        [ 5.2317e+05,  8.8739e+05],\n",
       "        [ 4.7838e+05,  9.1130e+05],\n",
       "        [ 4.1498e+05,  9.3489e+05],\n",
       "        [ 3.2642e+05,  9.5809e+05],\n",
       "        [-5.6329e+03, -3.9062e-02],\n",
       "        [-1.2688e+03, -1.9531e-02],\n",
       "        [ 6.1594e+05,  8.1543e+05],\n",
       "        [ 6.1044e+05,  8.4000e+05],\n",
       "        [ 5.9846e+05,  8.6448e+05],\n",
       "        [ 5.7820e+05,  8.8882e+05],\n",
       "        [ 5.4722e+05,  9.1300e+05],\n",
       "        [ 5.0217e+05,  9.3694e+05],\n",
       "        [ 4.3842e+05,  9.6059e+05],\n",
       "        [ 3.4937e+05,  9.8380e+05],\n",
       "        [-5.6329e+03, -1.0156e-01],\n",
       "        [-1.2688e+03,  1.8555e-02],\n",
       "        [ 6.4056e+05,  8.4095e+05],\n",
       "        [ 6.3499e+05,  8.6557e+05],\n",
       "        [ 6.2290e+05,  8.9009e+05],\n",
       "        [ 6.0249e+05,  9.1447e+05],\n",
       "        [ 5.7131e+05,  9.3870e+05],\n",
       "        [ 5.2599e+05,  9.6269e+05],\n",
       "        [ 4.6188e+05,  9.8636e+05],\n",
       "        [ 3.7235e+05,  1.0096e+06],\n",
       "        [-5.6329e+03, -2.4414e-03],\n",
       "        [-1.2688e+03,  5.4688e-02],\n",
       "        [ 6.6524e+05,  8.6653e+05],\n",
       "        [ 6.5958e+05,  8.9119e+05],\n",
       "        [ 6.4739e+05,  9.1577e+05],\n",
       "        [ 6.2683e+05,  9.4020e+05],\n",
       "        [ 5.9545e+05,  9.6447e+05],\n",
       "        [ 5.4986e+05,  9.8851e+05],\n",
       "        [ 4.8538e+05,  1.0122e+06],\n",
       "        [ 3.9536e+05,  1.0355e+06],\n",
       "        [-5.6329e+03,  2.7344e-02],\n",
       "        [-1.2688e+03,  0.0000e+00],\n",
       "        [ 6.8997e+05,  8.9218e+05],\n",
       "        [ 6.8423e+05,  9.1690e+05],\n",
       "        [ 6.7193e+05,  9.4151e+05],\n",
       "        [ 6.5122e+05,  9.6601e+05],\n",
       "        [ 6.1963e+05,  9.9035e+05],\n",
       "        [ 5.7377e+05,  1.0144e+06],\n",
       "        [ 5.0892e+05,  1.0382e+06],\n",
       "        [ 4.1840e+05,  1.0615e+06],\n",
       "        [-5.6329e+03,  7.8125e-02],\n",
       "        [-1.2688e+03,  4.6875e-02],\n",
       "        [ 3.5741e+05,  4.5898e+05],\n",
       "        [ 3.5450e+05,  4.7137e+05],\n",
       "        [ 3.4829e+05,  4.8372e+05],\n",
       "        [ 3.3786e+05,  4.9600e+05],\n",
       "        [ 3.2196e+05,  5.0819e+05],\n",
       "        [ 2.9889e+05,  5.2026e+05],\n",
       "        [ 2.6627e+05,  5.3216e+05],\n",
       "        [ 2.2075e+05,  5.4383e+05],\n",
       "        [-5.6329e+03,  0.0000e+00],\n",
       "        [-1.2688e+03,  4.6875e-02],\n",
       "        [-1.4509e+03,  3.1250e-02],\n",
       "        [-1.6694e+03,  6.2500e-02],\n",
       "        [-1.9338e+03,  9.3750e-02],\n",
       "        [-2.2567e+03,  7.8125e-02],\n",
       "        [-2.6551e+03,  4.6875e-02],\n",
       "        [-3.1523e+03,  0.0000e+00],\n",
       "        [-3.7805e+03,  1.5625e-02],\n",
       "        [-4.5854e+03,  4.6875e-02],\n",
       "        [-5.6329e+03,  7.8125e-02]], grad_fn=<AddBackward0>)"
      ]
     },
     "execution_count": 51,
     "metadata": {},
     "output_type": "execute_result"
    }
   ],
   "source": [
    " compute_grad(app_vis, inputs)\n",
    "#shear"
   ]
  },
  {
   "cell_type": "code",
   "execution_count": 17,
   "metadata": {},
   "outputs": [],
   "source": [
    "def app_visc(out_grad, x, y, xi, eta, n, k, tau):\n",
    "    shear = shear_rate(out_grad, x, y, xi, eta)\n",
    "    \n",
    "    # create a dummy viscosity\n",
    "    vis = torch.zeros_like(shear)\n",
    "    \n",
    "    # mask for shear rate less than critical shear rate\n",
    "    cs = 0.1\n",
    "    mask_body = shear>cs\n",
    "    mask_bound = shear <= cs\n",
    "    \n",
    "    ind_body = torch.nonzero(mask_body).unsqueeze(1)\n",
    "    ind_bound = torch.nonzero(mask_bound).unsqueeze(1)\n",
    "    \n",
    "    vis[ind_body] = (tau/shear[ind_body]) + ((shear[ind_body])**(n-1))*k\n",
    "    vis[ind_bound] = tau*(2 - (shear[ind_bound]/cs))/cs + k * ( (2-n)+(n-1)* (shear[ind_bound]/cs))\n",
    "    return vis"
   ]
  },
  {
   "cell_type": "code",
   "execution_count": 18,
   "metadata": {},
   "outputs": [],
   "source": [
    "vis = app_visc(out_grad, x, y, xi, eta, n=0.5, k=1.4, tau=0.5)"
   ]
  },
  {
   "cell_type": "code",
   "execution_count": 19,
   "metadata": {},
   "outputs": [],
   "source": [
    "left = (vis/jac)*(alpha*dudxi - gamma*dudeta)"
   ]
  },
  {
   "cell_type": "code",
   "execution_count": 20,
   "metadata": {},
   "outputs": [
    {
     "ename": "NameError",
     "evalue": "name 'test' is not defined",
     "output_type": "error",
     "traceback": [
      "\u001b[1;31m---------------------------------------------------------------------------\u001b[0m",
      "\u001b[1;31mNameError\u001b[0m                                 Traceback (most recent call last)",
      "\u001b[1;32m<ipython-input-20-a1fb6d4ce36e>\u001b[0m in \u001b[0;36m<module>\u001b[1;34m\u001b[0m\n\u001b[0;32m      1\u001b[0m \u001b[1;31m#dummy = torch.randn(100)+1\u001b[0m\u001b[1;33m\u001b[0m\u001b[1;33m\u001b[0m\u001b[1;33m\u001b[0m\u001b[0m\n\u001b[1;32m----> 2\u001b[1;33m \u001b[0mdummy\u001b[0m \u001b[1;33m=\u001b[0m \u001b[0mtest\u001b[0m\u001b[1;33m.\u001b[0m\u001b[0mreshape\u001b[0m\u001b[1;33m(\u001b[0m\u001b[0mshear\u001b[0m\u001b[1;33m.\u001b[0m\u001b[0mshape\u001b[0m\u001b[1;33m)\u001b[0m\u001b[1;33m\u001b[0m\u001b[1;33m\u001b[0m\u001b[0m\n\u001b[0m\u001b[0;32m      3\u001b[0m \u001b[0mvis\u001b[0m \u001b[1;33m=\u001b[0m \u001b[0mtorch\u001b[0m\u001b[1;33m.\u001b[0m\u001b[0mzeros_like\u001b[0m\u001b[1;33m(\u001b[0m\u001b[0mdummy\u001b[0m\u001b[1;33m)\u001b[0m\u001b[1;33m\u001b[0m\u001b[1;33m\u001b[0m\u001b[0m\n\u001b[0;32m      4\u001b[0m \u001b[1;33m\u001b[0m\u001b[0m\n\u001b[0;32m      5\u001b[0m  \u001b[1;31m# mask for shear rate less than critical shear rate\u001b[0m\u001b[1;33m\u001b[0m\u001b[1;33m\u001b[0m\u001b[1;33m\u001b[0m\u001b[0m\n",
      "\u001b[1;31mNameError\u001b[0m: name 'test' is not defined"
     ]
    }
   ],
   "source": [
    "#dummy = torch.randn(100)+1\n",
    "dummy = test.reshape(shear.shape)\n",
    "vis = torch.zeros_like(dummy)\n",
    "    \n",
    " # mask for shear rate less than critical shear rate\n",
    "cs = 0.1\n",
    "mask_body = dummy>cs\n",
    "mask_bound = dummy <= cs\n",
    "    \n",
    "ind_body = torch.nonzero(mask_body).unsqueeze(1)\n",
    "ind_bound = torch.nonzero(mask_bound).unsqueeze(1)\n",
    "    \n",
    "vis[ind_body] = (tau/dummy[ind_body]) + ((dummy[ind_body])**(n-1))*k\n",
    "vis[ind_bound] = tau*(2 - (dummy[ind_bound]/cs))/cs + k * ( (2-n)+(n-1)* (dummy[ind_bound]/cs))\n"
   ]
  },
  {
   "cell_type": "code",
   "execution_count": null,
   "metadata": {},
   "outputs": [],
   "source": [
    "vis"
   ]
  },
  {
   "cell_type": "code",
   "execution_count": null,
   "metadata": {},
   "outputs": [],
   "source": [
    "dummy"
   ]
  },
  {
   "cell_type": "code",
   "execution_count": null,
   "metadata": {},
   "outputs": [],
   "source": [
    "vis"
   ]
  },
  {
   "cell_type": "code",
   "execution_count": null,
   "metadata": {},
   "outputs": [],
   "source": [
    "test = torch.meshgrid(torch.linspace(0,1,10), torch.linspace(0,1,10))[0].reshape(-1,1)"
   ]
  },
  {
   "cell_type": "code",
   "execution_count": null,
   "metadata": {},
   "outputs": [],
   "source": []
  }
 ],
 "metadata": {
  "kernelspec": {
   "display_name": "Python 3",
   "language": "python",
   "name": "python3"
  },
  "language_info": {
   "codemirror_mode": {
    "name": "ipython",
    "version": 3
   },
   "file_extension": ".py",
   "mimetype": "text/x-python",
   "name": "python",
   "nbconvert_exporter": "python",
   "pygments_lexer": "ipython3",
   "version": "3.7.4"
  }
 },
 "nbformat": 4,
 "nbformat_minor": 4
}
