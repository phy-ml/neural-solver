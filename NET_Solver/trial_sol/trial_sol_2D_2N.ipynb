{
 "cells": [
  {
   "cell_type": "code",
   "execution_count": 1,
   "metadata": {},
   "outputs": [],
   "source": [
    "# this is the trial implementation of neural network trial solution of 2 side dirichlet and 2 side neumann boundary condition\n",
    "import numpy as np\n",
    "import matplotlib.pyplot as plt\n",
    "%matplotlib inline\n",
    "import sys\n",
    "sys.path.insert(0,'C:\\\\Users\\\\Syahrir Ridha\\\\PycharmProjects\\\\NET_Solver\\\\')\n",
    "from models import*"
   ]
  },
  {
   "cell_type": "code",
   "execution_count": 2,
   "metadata": {},
   "outputs": [],
   "source": [
    "# import a neural network\n",
    "in_dim = 2\n",
    "out_dim = 1\n",
    "hid_dim = 4\n",
    "layers = 2\n",
    "act = torch.nn.Tanh()\n",
    "net = MLP(in_dim, out_dim, hid_dim, layers, act=act)"
   ]
  },
  {
   "cell_type": "code",
   "execution_count": 3,
   "metadata": {},
   "outputs": [
    {
     "name": "stdout",
     "output_type": "stream",
     "text": [
      "Outer Xi: 7.8885841413687325 Inner Xi: 7.377758767602808 Focal Point: 799.9995749999124\n"
     ]
    }
   ],
   "source": [
    "def radial_bipolar(r_out, r_inn, ecc):\n",
    "    r = r_inn/r_out\n",
    "    xi_out = np.arccosh( (r*(1+ecc**2) + (1-ecc**2)) / (2*r*ecc) )\n",
    "    xi_inn = np.arccosh( (r*(1-ecc**2) + (1+ecc**2)) / (2*ecc) )\n",
    "    c_1 = r_inn*np.sinh(xi_out)\n",
    "    c_2 = r_out*np.sinh(xi_inn)\n",
    "    np.testing.assert_allclose(c_1, c_2, rtol=1e-10, atol=0)\n",
    "    return xi_out, xi_inn, c_1\n",
    "r_out = 1.0\n",
    "r_inn = 0.6\n",
    "ecc = 0.001\n",
    "xi_out, xi_inn, c = radial_bipolar(r_out,r_inn, ecc)\n",
    "print(f'Outer Xi: {xi_out} Inner Xi: {xi_inn} Focal Point: {c}')"
   ]
  },
  {
   "cell_type": "code",
   "execution_count": 4,
   "metadata": {},
   "outputs": [],
   "source": [
    "# define the mesh\n",
    "nx = 8\n",
    "ny = 8\n",
    "xi_, eta_ = np.linspace(xi_inn, xi_out, nx), np.linspace(0, np.pi, ny)\n",
    "xi, eta = np.meshgrid(xi_, eta_)\n",
    "# prepare input data for neural network\n",
    "xi, eta = torch.Tensor(xi).float().reshape(-1,1), torch.Tensor(eta).float().reshape(-1,1)\n",
    "input_data = torch.cat([xi,eta], dim=1)"
   ]
  },
  {
   "cell_type": "code",
   "execution_count": 8,
   "metadata": {},
   "outputs": [
    {
     "ename": "NameError",
     "evalue": "name 'data' is not defined",
     "output_type": "error",
     "traceback": [
      "\u001b[1;31m---------------------------------------------------------------------------\u001b[0m",
      "\u001b[1;31mNameError\u001b[0m                                 Traceback (most recent call last)",
      "\u001b[1;32m<ipython-input-8-073fb6926bb4>\u001b[0m in \u001b[0;36m<module>\u001b[1;34m\u001b[0m\n\u001b[0;32m      8\u001b[0m \u001b[0mC\u001b[0m \u001b[1;33m=\u001b[0m \u001b[1;36m0\u001b[0m\u001b[1;33m\u001b[0m\u001b[1;33m\u001b[0m\u001b[0m\n\u001b[0;32m      9\u001b[0m \u001b[0mD\u001b[0m \u001b[1;33m=\u001b[0m \u001b[1;36m0\u001b[0m\u001b[1;33m\u001b[0m\u001b[1;33m\u001b[0m\u001b[0m\n\u001b[1;32m---> 10\u001b[1;33m \u001b[0mx\u001b[0m \u001b[1;33m=\u001b[0m \u001b[0mdata\u001b[0m\u001b[1;33m[\u001b[0m\u001b[1;33m:\u001b[0m\u001b[1;33m,\u001b[0m\u001b[1;36m0\u001b[0m\u001b[1;33m]\u001b[0m\u001b[1;33m.\u001b[0m\u001b[0mreshape\u001b[0m\u001b[1;33m(\u001b[0m\u001b[1;33m-\u001b[0m\u001b[1;36m1\u001b[0m\u001b[1;33m,\u001b[0m\u001b[1;36m1\u001b[0m\u001b[1;33m)\u001b[0m\u001b[1;33m\u001b[0m\u001b[1;33m\u001b[0m\u001b[0m\n\u001b[0m\u001b[0;32m     11\u001b[0m \u001b[0my\u001b[0m \u001b[1;33m=\u001b[0m \u001b[0mdata\u001b[0m\u001b[1;33m[\u001b[0m\u001b[1;33m:\u001b[0m\u001b[1;33m,\u001b[0m\u001b[1;36m1\u001b[0m\u001b[1;33m]\u001b[0m\u001b[1;33m.\u001b[0m\u001b[0mreshape\u001b[0m\u001b[1;33m(\u001b[0m\u001b[1;33m-\u001b[0m\u001b[1;36m1\u001b[0m\u001b[1;33m,\u001b[0m\u001b[1;36m1\u001b[0m\u001b[1;33m)\u001b[0m\u001b[1;33m\u001b[0m\u001b[1;33m\u001b[0m\u001b[0m\n",
      "\u001b[1;31mNameError\u001b[0m: name 'data' is not defined"
     ]
    }
   ],
   "source": [
    "# # consider a PDE equation Phi with following boundar conditions\n",
    "# # Phi(0,y) = 0\n",
    "# # Phi(1,y) = 0\n",
    "# # d_Phi(x,0)/d_y = 0\n",
    "# # d_Phi(x,1)/d_y = 0\n",
    "# A = 0\n",
    "# B = 0\n",
    "# C = 0\n",
    "# D = 0\n",
    "# x = data[:,0].reshape(-1,1)\n",
    "# y = data[:,1].reshape(-1,1)"
   ]
  },
  {
   "cell_type": "code",
   "execution_count": 9,
   "metadata": {},
   "outputs": [
    {
     "ename": "NameError",
     "evalue": "name 'x' is not defined",
     "output_type": "error",
     "traceback": [
      "\u001b[1;31m---------------------------------------------------------------------------\u001b[0m",
      "\u001b[1;31mNameError\u001b[0m                                 Traceback (most recent call last)",
      "\u001b[1;32m<ipython-input-9-2eafebe742fc>\u001b[0m in \u001b[0;36m<module>\u001b[1;34m\u001b[0m\n\u001b[1;32m----> 1\u001b[1;33m trial = ((1-x)*A + x*B + ((1 - y)*( C - ( (1-x)*C + x*C ) )) + (y* ( D - ( (1-x)*D +x*D ) )) + \n\u001b[0m\u001b[0;32m      2\u001b[0m          x*(1-x)*y*(1- y)*net(data) )\n",
      "\u001b[1;31mNameError\u001b[0m: name 'x' is not defined"
     ]
    }
   ],
   "source": [
    "trial = ((1-x)*A + x*B + ((1 - y)*( C - ( (1-x)*C + x*C ) )) + (y* ( D - ( (1-x)*D +x*D ) )) + \n",
    "         x*(1-x)*y*(1- y)*net(data) )"
   ]
  },
  {
   "cell_type": "code",
   "execution_count": 11,
   "metadata": {},
   "outputs": [
    {
     "ename": "NameError",
     "evalue": "name 'x' is not defined",
     "output_type": "error",
     "traceback": [
      "\u001b[1;31m---------------------------------------------------------------------------\u001b[0m",
      "\u001b[1;31mNameError\u001b[0m                                 Traceback (most recent call last)",
      "\u001b[1;32m<ipython-input-11-88a57384ac9e>\u001b[0m in \u001b[0;36m<module>\u001b[1;34m\u001b[0m\n\u001b[1;32m----> 1\u001b[1;33m trial_test = ((xi_out-xi)*A + x*B + \n\u001b[0m\u001b[0;32m      2\u001b[0m \u001b[1;33m\u001b[0m\u001b[0m\n\u001b[0;32m      3\u001b[0m          x*(1-x)*net(input_data) )\n",
      "\u001b[1;31mNameError\u001b[0m: name 'x' is not defined"
     ]
    }
   ],
   "source": [
    "trial_test = ((xi_out-xi)*A + x*B + \n",
    "             \n",
    "         x*(1-x)*net(input_data) )"
   ]
  },
  {
   "cell_type": "code",
   "execution_count": 82,
   "metadata": {},
   "outputs": [
    {
     "data": {
      "text/plain": [
       "tensor([[ 0.0000, -0.0143, -0.0239, -0.0287, -0.0288, -0.0240, -0.0144,  0.0000],\n",
       "        [ 0.0000, -0.0143, -0.0239, -0.0287, -0.0288, -0.0240, -0.0144,  0.0000],\n",
       "        [ 0.0000, -0.0143, -0.0239, -0.0287, -0.0288, -0.0240, -0.0144,  0.0000],\n",
       "        [ 0.0000, -0.0143, -0.0239, -0.0287, -0.0288, -0.0240, -0.0144,  0.0000],\n",
       "        [ 0.0000, -0.0143, -0.0239, -0.0287, -0.0288, -0.0240, -0.0144,  0.0000],\n",
       "        [ 0.0000, -0.0143, -0.0239, -0.0287, -0.0288, -0.0240, -0.0144,  0.0000],\n",
       "        [ 0.0000, -0.0143, -0.0239, -0.0287, -0.0288, -0.0240, -0.0144,  0.0000],\n",
       "        [ 0.0000, -0.0143, -0.0238, -0.0287, -0.0288, -0.0240, -0.0144,  0.0000]],\n",
       "       grad_fn=<ViewBackward>)"
      ]
     },
     "execution_count": 82,
     "metadata": {},
     "output_type": "execute_result"
    }
   ],
   "source": [
    "trial_test.reshape(ny,nx)"
   ]
  },
  {
   "cell_type": "code",
   "execution_count": 13,
   "metadata": {},
   "outputs": [
    {
     "data": {
      "text/plain": [
       "tensor([[0.0000, 0.0066, 0.0111, 0.0133, 0.0133, 0.0111, 0.0067, 0.0000],\n",
       "        [0.0000, 0.0066, 0.0111, 0.0133, 0.0133, 0.0111, 0.0066, 0.0000],\n",
       "        [0.0000, 0.0066, 0.0110, 0.0133, 0.0133, 0.0111, 0.0066, 0.0000],\n",
       "        [0.0000, 0.0066, 0.0110, 0.0132, 0.0132, 0.0110, 0.0066, 0.0000],\n",
       "        [0.0000, 0.0066, 0.0110, 0.0132, 0.0132, 0.0110, 0.0066, 0.0000],\n",
       "        [0.0000, 0.0066, 0.0110, 0.0132, 0.0132, 0.0110, 0.0066, 0.0000],\n",
       "        [0.0000, 0.0066, 0.0110, 0.0132, 0.0132, 0.0110, 0.0066, 0.0000],\n",
       "        [0.0000, 0.0066, 0.0110, 0.0132, 0.0132, 0.0110, 0.0066, 0.0000]],\n",
       "       grad_fn=<ViewBackward>)"
      ]
     },
     "execution_count": 13,
     "metadata": {},
     "output_type": "execute_result"
    }
   ],
   "source": [
    "((xi-xi_inn)*(xi_out-xi)*net(input_data)).reshape(-1,nx)"
   ]
  },
  {
   "cell_type": "code",
   "execution_count": 69,
   "metadata": {},
   "outputs": [
    {
     "data": {
      "text/plain": [
       "array([[7.37775877, 7.45073382, 7.52370887, 7.59668393, 7.66965898,\n",
       "        7.74263403, 7.81560909, 7.88858414],\n",
       "       [7.37775877, 7.45073382, 7.52370887, 7.59668393, 7.66965898,\n",
       "        7.74263403, 7.81560909, 7.88858414],\n",
       "       [7.37775877, 7.45073382, 7.52370887, 7.59668393, 7.66965898,\n",
       "        7.74263403, 7.81560909, 7.88858414],\n",
       "       [7.37775877, 7.45073382, 7.52370887, 7.59668393, 7.66965898,\n",
       "        7.74263403, 7.81560909, 7.88858414],\n",
       "       [7.37775877, 7.45073382, 7.52370887, 7.59668393, 7.66965898,\n",
       "        7.74263403, 7.81560909, 7.88858414],\n",
       "       [7.37775877, 7.45073382, 7.52370887, 7.59668393, 7.66965898,\n",
       "        7.74263403, 7.81560909, 7.88858414],\n",
       "       [7.37775877, 7.45073382, 7.52370887, 7.59668393, 7.66965898,\n",
       "        7.74263403, 7.81560909, 7.88858414],\n",
       "       [7.37775877, 7.45073382, 7.52370887, 7.59668393, 7.66965898,\n",
       "        7.74263403, 7.81560909, 7.88858414],\n",
       "       [7.37775877, 7.45073382, 7.52370887, 7.59668393, 7.66965898,\n",
       "        7.74263403, 7.81560909, 7.88858414],\n",
       "       [7.37775877, 7.45073382, 7.52370887, 7.59668393, 7.66965898,\n",
       "        7.74263403, 7.81560909, 7.88858414],\n",
       "       [7.37775877, 7.45073382, 7.52370887, 7.59668393, 7.66965898,\n",
       "        7.74263403, 7.81560909, 7.88858414],\n",
       "       [7.37775877, 7.45073382, 7.52370887, 7.59668393, 7.66965898,\n",
       "        7.74263403, 7.81560909, 7.88858414],\n",
       "       [7.37775877, 7.45073382, 7.52370887, 7.59668393, 7.66965898,\n",
       "        7.74263403, 7.81560909, 7.88858414],\n",
       "       [7.37775877, 7.45073382, 7.52370887, 7.59668393, 7.66965898,\n",
       "        7.74263403, 7.81560909, 7.88858414],\n",
       "       [7.37775877, 7.45073382, 7.52370887, 7.59668393, 7.66965898,\n",
       "        7.74263403, 7.81560909, 7.88858414],\n",
       "       [7.37775877, 7.45073382, 7.52370887, 7.59668393, 7.66965898,\n",
       "        7.74263403, 7.81560909, 7.88858414]])"
      ]
     },
     "execution_count": 69,
     "metadata": {},
     "output_type": "execute_result"
    }
   ],
   "source": [
    "xi"
   ]
  },
  {
   "cell_type": "code",
   "execution_count": null,
   "metadata": {},
   "outputs": [],
   "source": []
  }
 ],
 "metadata": {
  "kernelspec": {
   "display_name": "Python 3",
   "language": "python",
   "name": "python3"
  },
  "language_info": {
   "codemirror_mode": {
    "name": "ipython",
    "version": 3
   },
   "file_extension": ".py",
   "mimetype": "text/x-python",
   "name": "python",
   "nbconvert_exporter": "python",
   "pygments_lexer": "ipython3",
   "version": "3.7.4"
  }
 },
 "nbformat": 4,
 "nbformat_minor": 4
}
