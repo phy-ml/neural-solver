{
 "cells": [
  {
   "cell_type": "code",
   "execution_count": 8,
   "metadata": {},
   "outputs": [],
   "source": [
    "import sys\n",
    "sys.path.insert(0,'C:\\\\Users\\\\Syahrir Ridha\\\\PycharmProjects\\\\NET_Solver\\\\')\n",
    "import numpy as np\n",
    "import torch\n",
    "from geometry import *\n",
    "from utils import Plot_Grid\n",
    "from solver import *\n",
    "from models import *\n",
    "from mesh import *\n",
    "from boundary import *\n",
    "import matplotlib.pyplot as plt\n",
    "%matplotlib inline\n",
    "from torch.utils.data import Dataset, DataLoader"
   ]
  },
  {
   "cell_type": "code",
   "execution_count": 9,
   "metadata": {},
   "outputs": [],
   "source": [
    "# define the inputs\n",
    "nx, ny = 10, 10\n",
    "xi = np.linspace(0,1,nx)\n",
    "eta = np.linspace(0,1,ny)\n",
    "xx, yy = np.meshgrid(xi, eta)\n",
    "xx, yy = xx.reshape(-1,1), yy.reshape(-1,1)\n",
    "XI, ETA = torch.from_numpy(xx).float(), torch.from_numpy(yy).float()\n",
    "inputs = torch.cat((XI,ETA),dim=1)"
   ]
  },
  {
   "cell_type": "code",
   "execution_count": 10,
   "metadata": {},
   "outputs": [],
   "source": [
    "anulus = Analytical_Annulus(1., 0.6, 0.)\n",
    "grid = TFI(XI, ETA, anulus)\n",
    "x, y = grid.X(), grid.Y()"
   ]
  },
  {
   "cell_type": "code",
   "execution_count": 11,
   "metadata": {},
   "outputs": [],
   "source": [
    "# define the neural network\n",
    "in_dim = 2\n",
    "out_dim = 1\n",
    "layers = 5\n",
    "hid_dim = 50\n",
    "\n",
    "activation = Sine()\n",
    "#activation = torch.nn.Tanh()\n",
    "\n",
    "net = MLP(in_dim, out_dim, layers, hid_dim, act=activation)"
   ]
  },
  {
   "cell_type": "code",
   "execution_count": 12,
   "metadata": {},
   "outputs": [],
   "source": [
    "class Trial_Solution:\n",
    "    def __init__(self, model, nx, ny):\n",
    "        self.model = model\n",
    "        self.nx, self.ny = nx, ny\n",
    "        \n",
    "    def Dirichlet(self, model_data):\n",
    "        # impose the dirichlet conditions\n",
    "        # u = 0 @ eta 0 and 1\n",
    "        model_data[0,:]=0\n",
    "        model_data[-1,:] = 0\n",
    "        \n",
    "        return model_data\n",
    "    \n",
    "    def Neumann(self, model_data):\n",
    "        # impose neumann boundary\n",
    "        # dudy =0 @ xi = 0 and 1\n",
    "        model_data[:,0] = model_data[:,1]\n",
    "        model_data[:,-1] = model_data[:,-2]\n",
    "        \n",
    "        return model_data\n",
    "    \n",
    "    def __call__(self,inputs):\n",
    "        # predict the general output\n",
    "        pred = self.model(inputs)\n",
    "        \n",
    "        # reshape into a cartesian format\n",
    "        pred = pred.reshape(self.nx, self.ny)\n",
    "        \n",
    "        # apply the boundary conditions\n",
    "        # dirichlet\n",
    "        out = self.Dirichlet(pred)\n",
    "        \n",
    "        # neumann \n",
    "        out = self.Neumann(out)\n",
    "        \n",
    "        # reshape back into original format\n",
    "        out = out.reshape(-1,1)\n",
    "        \n",
    "        return out\n",
    "    "
   ]
  },
  {
   "cell_type": "code",
   "execution_count": 21,
   "metadata": {},
   "outputs": [],
   "source": [
    "class Physics_Loader(Dataset):\n",
    "    def __init__(self,data):\n",
    "        self.data = data\n",
    "        \n",
    "    def __len__(self):\n",
    "        return len(self.data)\n",
    "    \n",
    "    def __getitem__(self, i):\n",
    "        return self.data[i]"
   ]
  },
  {
   "cell_type": "code",
   "execution_count": 22,
   "metadata": {},
   "outputs": [],
   "source": [
    "trial = Trial_Solution(net, nx, ny)"
   ]
  },
  {
   "cell_type": "code",
   "execution_count": 26,
   "metadata": {},
   "outputs": [],
   "source": [
    "load = Physics_Loader(net(inputs))"
   ]
  },
  {
   "cell_type": "code",
   "execution_count": null,
   "metadata": {},
   "outputs": [],
   "source": [
    "class Loss:\n",
    "    def __init__(self, trial, grid, model, nx, ny, inputs)\n",
    "        self.trial = trial \n",
    "        self.grid = grid\n",
    "        self.model = model\n",
    "        self.nx, self.ny = nx, ny\n",
    "        self.inputs = inputs\n",
    "        \n",
    "    def loss(self):\n",
    "        xi, eta = self.inputs[:,0], self.inputs[:,1]\n",
    "        x, y = self.grid.X(), self.grid.Y()\n",
    "        \n",
    "    \n",
    "    \n",
    "        \n",
    "    def cal_grads(self, x, y, xi, eta):\n",
    "        # compute all the gradients wrt x,y \n",
    "        dxdxi = self.compute_grad(x, xi)\n",
    "        dxdeta = self.compute_grad(x, eta)\n",
    "        dydxi = self.compute_grad(y, xi)\n",
    "        dydeta = self.compute_grad(y, eta)\n",
    "        jac = dxdxi*dydeta - dxdeta*dydxi\n",
    "        \n",
    "        return dxdxi, dxdeta, dydxi, dydeta, jac\n",
    "    \n",
    "    def compute_grad(self, outputs, inputs):\n",
    "        gradient, = torch.autograd.grad(outputs, inputs, grad_outputs=outputs.data.new(outputs.shape).fill_(1),\n",
    "                                        create_graph=True, retain_graph=True, only_inputs=True)\n",
    "        return gradient"
   ]
  },
  {
   "cell_type": "code",
   "execution_count": null,
   "metadata": {},
   "outputs": [],
   "source": []
  },
  {
   "cell_type": "code",
   "execution_count": null,
   "metadata": {},
   "outputs": [],
   "source": []
  }
 ],
 "metadata": {
  "kernelspec": {
   "display_name": "Python 3",
   "language": "python",
   "name": "python3"
  },
  "language_info": {
   "codemirror_mode": {
    "name": "ipython",
    "version": 3
   },
   "file_extension": ".py",
   "mimetype": "text/x-python",
   "name": "python",
   "nbconvert_exporter": "python",
   "pygments_lexer": "ipython3",
   "version": "3.7.4"
  }
 },
 "nbformat": 4,
 "nbformat_minor": 4
}
